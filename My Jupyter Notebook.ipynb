{
 "cells": [
  {
   "cell_type": "markdown",
   "id": "911c7792-cc2d-4e3b-963d-65088cb41c17",
   "metadata": {},
   "source": [
    "# My Jupyter Notebook on IBM Watson Studio"
   ]
  },
  {
   "cell_type": "markdown",
   "id": "8d8d4ac7-a8ae-4baf-ae3d-5c6b5f60d7ad",
   "metadata": {},
   "source": [
    "**Su Kay Thwe Aung**\n",
    "Assistant Contract Manager"
   ]
  },
  {
   "cell_type": "markdown",
   "id": "90a16b21-4cd3-45d9-a528-bd895670fadc",
   "metadata": {},
   "source": [
    "*I am interested in data science because data can be interpreted into some insights for the business.*"
   ]
  },
  {
   "cell_type": "markdown",
   "id": "fa9c6a9c-0f8c-426c-97e1-cd132468d4d8",
   "metadata": {},
   "source": [
    "### The code below will compute the simple math problem "
   ]
  },
  {
   "cell_type": "code",
   "execution_count": 2,
   "id": "b7cc2abd-d8d8-4461-bac6-81b2688b2c6a",
   "metadata": {},
   "outputs": [
    {
     "data": {
      "text/plain": [
       "2"
      ]
     },
     "execution_count": 2,
     "metadata": {},
     "output_type": "execute_result"
    }
   ],
   "source": [
    "1+1"
   ]
  },
  {
   "cell_type": "markdown",
   "id": "6ab86973-8c87-4b3a-92ad-347cd30fa87b",
   "metadata": {},
   "source": [
    "[What is a tree](https://ecotree.green/en/blog/what-is-a-tree)"
   ]
  },
  {
   "cell_type": "markdown",
   "id": "6e3891f6-b736-4eab-9f9b-b06effa057b6",
   "metadata": {},
   "source": [
    "| Trees         | Are           | Cool   |\n",
    "| ------------- |:-------------:| -----: |\n",
    "| Tree 1 is     | Green         | Color  |\n",
    "| Tree 2 is     | Yellow        | Color  |\n",
    "| Trees have    | Flowers and   | Fruits |"
   ]
  },
  {
   "cell_type": "markdown",
   "id": "0d2802cb-0ec7-42a3-986e-56e2bce966a0",
   "metadata": {},
   "source": [
    "Three or more...\n",
    "\n",
    "---\n",
    "\n",
    "Hyphens\n",
    "\n",
    "***\n",
    "\n",
    "Asterisks\n",
    "\n",
    "___\n",
    "\n",
    "Underscores"
   ]
  },
  {
   "cell_type": "markdown",
   "id": "9527982d-14d9-40b5-b285-988f72f407d9",
   "metadata": {},
   "source": [
    "1. Mango Trees\n",
    "2. Coconut Trees\n",
    "3. Guava Trees "
   ]
  },
  {
   "cell_type": "code",
   "execution_count": null,
   "id": "cb366404-a926-45a9-ab1b-66e95ce18d85",
   "metadata": {},
   "outputs": [],
   "source": []
  }
 ],
 "metadata": {
  "kernelspec": {
   "display_name": "Python",
   "language": "python",
   "name": "conda-env-python-py"
  },
  "language_info": {
   "codemirror_mode": {
    "name": "ipython",
    "version": 3
   },
   "file_extension": ".py",
   "mimetype": "text/x-python",
   "name": "python",
   "nbconvert_exporter": "python",
   "pygments_lexer": "ipython3",
   "version": "3.7.12"
  }
 },
 "nbformat": 4,
 "nbformat_minor": 5
}
